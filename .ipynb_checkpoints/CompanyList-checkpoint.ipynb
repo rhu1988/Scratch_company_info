{
 "cells": [
  {
   "cell_type": "code",
   "execution_count": 1,
   "metadata": {
    "collapsed": true
   },
   "outputs": [],
   "source": [
    "import urllib\n",
    "import chardet\n",
    "from bs4 import BeautifulSoup\n",
    "import re\n",
    "import pandas as pd\n",
    "from bs4 import NavigableString, Tag"
   ]
  },
  {
   "cell_type": "code",
   "execution_count": null,
   "metadata": {
    "collapsed": true
   },
   "outputs": [],
   "source": [
    "response=urllib.request.urlopen('https://rngr.net/resources/directory/directory_folder_index_html?b_start:int=60&-C=')\n",
    "html=response.read()\n",
    "soup=BeautifulSoup(html,'lxml')\n",
    "soup"
   ]
  },
  {
   "cell_type": "code",
   "execution_count": null,
   "metadata": {
    "collapsed": true
   },
   "outputs": [],
   "source": [
    "company_links=soup.find_all('a', attrs={'href': re.compile('/view$')})\n",
    "links=[]\n",
    "for link in company_links:\n",
    "    links.append(link.get('href'))"
   ]
  },
  {
   "cell_type": "code",
   "execution_count": null,
   "metadata": {
    "collapsed": true,
    "scrolled": true
   },
   "outputs": [],
   "source": [
    "company_html=soup.find_all(attrs={'class':'summary'})\n",
    "titles=[]\n",
    "for html in company_html:\n",
    "    titles.append(html.text.strip())"
   ]
  },
  {
   "cell_type": "code",
   "execution_count": null,
   "metadata": {
    "collapsed": true,
    "scrolled": true
   },
   "outputs": [],
   "source": [
    "links=[]\n",
    "for i in range(41):\n",
    "    links_per_page=[]\n",
    "    url='https://rngr.net/resources/directory/directory_folder_index_html?b_start:int='+str(30*i)+'&-C='\n",
    "    response=urllib.request.urlopen(url)\n",
    "    html=response.read()\n",
    "    soup=BeautifulSoup(html,'lxml')\n",
    "    company_links=soup.find_all('a', attrs={'href': re.compile('/view$')})\n",
    "    for link in company_links:\n",
    "        links_per_page.append(link.get('href'))\n",
    "    links=links+links_per_page"
   ]
  },
  {
   "cell_type": "code",
   "execution_count": null,
   "metadata": {
    "collapsed": true,
    "scrolled": true
   },
   "outputs": [],
   "source": [
    "company_titles=[]\n",
    "for i in range(41):\n",
    "    links_per_page=[]\n",
    "    url='https://rngr.net/resources/directory/directory_folder_index_html?b_start:int='+str(30*i)+'&-C='\n",
    "    response=urllib.request.urlopen(url)\n",
    "    html=response.read()\n",
    "    soup=BeautifulSoup(html,'lxml')\n",
    "    company_html=soup.find_all(attrs={'class':'summary'})\n",
    "    titles=[]\n",
    "    for html in company_html:\n",
    "        titles.append(html.text.strip())\n",
    "    company_titles=company_titles+titles"
   ]
  },
  {
   "cell_type": "code",
   "execution_count": null,
   "metadata": {
    "collapsed": true
   },
   "outputs": [],
   "source": [
    "company_titles=company_titles[:-7]"
   ]
  },
  {
   "cell_type": "code",
   "execution_count": null,
   "metadata": {
    "collapsed": true
   },
   "outputs": [],
   "source": [
    "len(company_titles)"
   ]
  },
  {
   "cell_type": "code",
   "execution_count": null,
   "metadata": {
    "collapsed": true
   },
   "outputs": [],
   "source": [
    "links=links[:-7]"
   ]
  },
  {
   "cell_type": "code",
   "execution_count": null,
   "metadata": {
    "collapsed": true
   },
   "outputs": [],
   "source": [
    "len(links)"
   ]
  },
  {
   "cell_type": "code",
   "execution_count": null,
   "metadata": {
    "collapsed": true
   },
   "outputs": [],
   "source": [
    "dic={'CompanyName':company_titles,'CompanyLink':links}\n",
    "Company_df=pd.DataFrame(data=dic)"
   ]
  },
  {
   "cell_type": "code",
   "execution_count": null,
   "metadata": {
    "collapsed": true
   },
   "outputs": [],
   "source": [
    "Company_df=Company_df[['CompanyName','CompanyLink']]"
   ]
  },
  {
   "cell_type": "code",
   "execution_count": null,
   "metadata": {
    "collapsed": true
   },
   "outputs": [],
   "source": [
    "Company_df.head()"
   ]
  },
  {
   "cell_type": "code",
   "execution_count": null,
   "metadata": {
    "collapsed": true
   },
   "outputs": [],
   "source": [
    "Company_df.to_excel('CompanyList.xlsx',index=False)"
   ]
  },
  {
   "cell_type": "code",
   "execution_count": null,
   "metadata": {
    "collapsed": true
   },
   "outputs": [],
   "source": [
    "response=urllib.request.urlopen('https://rngr.net/resources/directory/althousenursery/view')\n",
    "html=response.read()\n",
    "soup=BeautifulSoup(html,'lxml')"
   ]
  },
  {
   "cell_type": "code",
   "execution_count": null,
   "metadata": {
    "collapsed": true,
    "scrolled": true
   },
   "outputs": [],
   "source": [
    "from bs4 import NavigableString, Tag\n",
    "info=[]\n",
    "for br in soup.findAll('br'):\n",
    "    next_s = br.nextSibling\n",
    "    if not (next_s and isinstance(next_s,NavigableString)):\n",
    "        continue\n",
    "    next2_s = next_s.nextSibling\n",
    "    if next2_s and isinstance(next2_s,Tag) and next2_s.name == 'br':\n",
    "        text = str(next_s).strip()\n",
    "        if text:\n",
    "            info.append(text)\n",
    "info=info[0:2]+info[-5:]"
   ]
  },
  {
   "cell_type": "code",
   "execution_count": null,
   "metadata": {
    "collapsed": true
   },
   "outputs": [],
   "source": [
    "def info(url):\n",
    "    info=[]\n",
    "    response=urllib.request.urlopen(url)\n",
    "    html=response.read()\n",
    "    soup=BeautifulSoup(html,'lxml')\n",
    "    for br in soup.findAll('br'):\n",
    "        next_s = br.nextSibling\n",
    "        if not (next_s and isinstance(next_s,NavigableString)):\n",
    "            continue\n",
    "        next2_s = next_s.nextSibling\n",
    "        if next2_s and isinstance(next2_s,Tag) and next2_s.name == 'br':\n",
    "            text = str(next_s).strip()\n",
    "            if text:\n",
    "                info.append(text)\n",
    "    info=info[0:2]+info[-5:]\n",
    "    if len(info)==7:\n",
    "        Address.append(info[0]+' '+info[1])\n",
    "        Contact.append(info[2]+' '+info[3])\n",
    "        Nur_type.append(info[4])\n",
    "        Bus_type.append(info[5])\n",
    "        Product.append(info[6])\n",
    "    else:\n",
    "        Address.append('NaN')\n",
    "        Contact.append('NaN')\n",
    "        Nur_type.append('NaN')\n",
    "        Bus_type.append('NaN')\n",
    "        Product.append('NaN')\n",
    "        "
   ]
  },
  {
   "cell_type": "code",
   "execution_count": null,
   "metadata": {
    "collapsed": true,
    "scrolled": true
   },
   "outputs": [],
   "source": [
    "Address=[]\n",
    "Contact=[]\n",
    "Nur_type=[]\n",
    "Bus_type=[]\n",
    "Product=[]\n",
    "Company_df['CompanyLink'].map(info)"
   ]
  },
  {
   "cell_type": "code",
   "execution_count": null,
   "metadata": {
    "collapsed": true
   },
   "outputs": [],
   "source": [
    "Add_Series=pd.Series(Address)\n",
    "Contact_Series=pd.Series(Contact)\n",
    "Nur_Series=pd.Series(Nur_type)\n",
    "Bus_Series=pd.Series(Bus_type)\n",
    "Prod_Series=pd.Series(Product)\n",
    "Company_df['Address']=Add_Series\n",
    "Company_df['Contact']=Contact_Series\n",
    "Company_df['NurseryType']=Nur_Series\n",
    "Company_df['BusinessType']=Bus_Series\n",
    "Company_df['Product']=Prod_Series\n"
   ]
  },
  {
   "cell_type": "code",
   "execution_count": null,
   "metadata": {
    "collapsed": true
   },
   "outputs": [],
   "source": [
    "Company_df.to_excel('CompanyListWithInfo.xlsx',index=False)"
   ]
  },
  {
   "cell_type": "code",
   "execution_count": null,
   "metadata": {
    "collapsed": true
   },
   "outputs": [],
   "source": [
    "Company_df=pd.read_excel('Company List.xlsx',sheet_name='Data')\n",
    "Company_df.head()"
   ]
  },
  {
   "cell_type": "code",
   "execution_count": null,
   "metadata": {
    "collapsed": true
   },
   "outputs": [],
   "source": [
    "def add_state(string):\n",
    "    if ',' in string:\n",
    "        if len(string.split(','))==2:\n",
    "            address,state_zip=string.split(',')\n",
    "            state=re.split('(\\d+)',state_zip)[0]\n",
    "        else:\n",
    "            address=string.split(',')[0]+string.split(',')[1]\n",
    "            state_zip=string.split(',')[2]\n",
    "            state=re.split('(\\d+)',state_zip)[0]\n",
    "    else:\n",
    "        address=string\n",
    "        state='NaN'\n",
    "    apt_road.append(address)\n",
    "    states.append(state)"
   ]
  },
  {
   "cell_type": "code",
   "execution_count": null,
   "metadata": {
    "collapsed": true,
    "scrolled": true
   },
   "outputs": [],
   "source": [
    "apt_road=[]\n",
    "states=[]\n",
    "Company_df['Address'].map(add_state)"
   ]
  },
  {
   "cell_type": "code",
   "execution_count": null,
   "metadata": {
    "collapsed": true
   },
   "outputs": [],
   "source": [
    "states"
   ]
  },
  {
   "cell_type": "code",
   "execution_count": null,
   "metadata": {
    "collapsed": true
   },
   "outputs": [],
   "source": [
    "CompanyList=pd.read_excel('Company List.xlsx',sheet_name='Directory')\n",
    "CompanyList.head()"
   ]
  },
  {
   "cell_type": "code",
   "execution_count": null,
   "metadata": {
    "collapsed": true
   },
   "outputs": [],
   "source": [
    "CompanyList['Address']=pd.Series(apt_road)\n",
    "CompanyList['State']=pd.Series(states)\n",
    "CompanyList.head()"
   ]
  },
  {
   "cell_type": "code",
   "execution_count": null,
   "metadata": {
    "collapsed": true
   },
   "outputs": [],
   "source": [
    "CompanyList.to_excel('CompanyList_updated.xlsx',index=False)"
   ]
  },
  {
   "cell_type": "code",
   "execution_count": 21,
   "metadata": {},
   "outputs": [
    {
     "data": {
      "text/html": [
       "<div>\n",
       "<style scoped>\n",
       "    .dataframe tbody tr th:only-of-type {\n",
       "        vertical-align: middle;\n",
       "    }\n",
       "\n",
       "    .dataframe tbody tr th {\n",
       "        vertical-align: top;\n",
       "    }\n",
       "\n",
       "    .dataframe thead th {\n",
       "        text-align: right;\n",
       "    }\n",
       "</style>\n",
       "<table border=\"1\" class=\"dataframe\">\n",
       "  <thead>\n",
       "    <tr style=\"text-align: right;\">\n",
       "      <th></th>\n",
       "      <th>CompanyName</th>\n",
       "      <th>CompanyLink</th>\n",
       "      <th>Address</th>\n",
       "      <th>Contact</th>\n",
       "      <th>NurseryType</th>\n",
       "      <th>BusinessType</th>\n",
       "      <th>Product</th>\n",
       "      <th>Contact Adjusted</th>\n",
       "    </tr>\n",
       "  </thead>\n",
       "  <tbody>\n",
       "    <tr>\n",
       "      <th>0</th>\n",
       "      <td>3E Tree Farms and Wetland Nursery Inc</td>\n",
       "      <td>https://rngr.net/resources/directory/3etreefar...</td>\n",
       "      <td>PO Box 476 Loxahatchee, Florida 33470-3069</td>\n",
       "      <td>Irene Goltzena 561.718.3069</td>\n",
       "      <td>Private</td>\n",
       "      <td>Wholesale, Retail, Mail, Internet, Contract</td>\n",
       "      <td>Plants</td>\n",
       "      <td>Irene Goltzena 561.718.3069</td>\n",
       "    </tr>\n",
       "    <tr>\n",
       "      <th>1</th>\n",
       "      <td>A Great SW Saguaro and Tree | Arizona Native P...</td>\n",
       "      <td>https://rngr.net/resources/directory/arizonana...</td>\n",
       "      <td>31632 North 43rd Street Cave Creek, Arizona 85331</td>\n",
       "      <td>Bart Chrader 480.483.8355</td>\n",
       "      <td>Private</td>\n",
       "      <td>Wholesale, Retail</td>\n",
       "      <td>Plants</td>\n",
       "      <td>Bart Chrader 480.483.8355</td>\n",
       "    </tr>\n",
       "    <tr>\n",
       "      <th>2</th>\n",
       "      <td>A Quality Plant</td>\n",
       "      <td>https://rngr.net/resources/directory/a-quality...</td>\n",
       "      <td>1998 19th Ave NE Ruskin, Florida 33570</td>\n",
       "      <td>Rob Pittman 866.998.9393</td>\n",
       "      <td>Private</td>\n",
       "      <td>Wholesale, Retail</td>\n",
       "      <td>Plants</td>\n",
       "      <td>Rob Pittman 866.998.9393</td>\n",
       "    </tr>\n",
       "    <tr>\n",
       "      <th>3</th>\n",
       "      <td>A Touch O' Green Landscape &amp; Gardens LLC</td>\n",
       "      <td>https://rngr.net/resources/directory/a-touch-o...</td>\n",
       "      <td>7205 Holly Fern Cove Austin, Texas 78750</td>\n",
       "      <td>Bridget 512.736.4859</td>\n",
       "      <td>Private</td>\n",
       "      <td>Wholesale, Retail</td>\n",
       "      <td>Plants</td>\n",
       "      <td>Bridget 512.736.4859</td>\n",
       "    </tr>\n",
       "    <tr>\n",
       "      <th>4</th>\n",
       "      <td>A Waldbart &amp; Sons Nursery</td>\n",
       "      <td>https://rngr.net/resources/directory/awaldbart...</td>\n",
       "      <td>5517 N Hwy 67 Florissant, Missouri 63034</td>\n",
       "      <td>Jack Cunningham 314.741.3121</td>\n",
       "      <td>Private</td>\n",
       "      <td>Wholesale, Retail</td>\n",
       "      <td>Plants</td>\n",
       "      <td>Jack Cunningham 314.741.3121</td>\n",
       "    </tr>\n",
       "  </tbody>\n",
       "</table>\n",
       "</div>"
      ],
      "text/plain": [
       "                                         CompanyName  \\\n",
       "0              3E Tree Farms and Wetland Nursery Inc   \n",
       "1  A Great SW Saguaro and Tree | Arizona Native P...   \n",
       "2                                    A Quality Plant   \n",
       "3           A Touch O' Green Landscape & Gardens LLC   \n",
       "4                          A Waldbart & Sons Nursery   \n",
       "\n",
       "                                         CompanyLink  \\\n",
       "0  https://rngr.net/resources/directory/3etreefar...   \n",
       "1  https://rngr.net/resources/directory/arizonana...   \n",
       "2  https://rngr.net/resources/directory/a-quality...   \n",
       "3  https://rngr.net/resources/directory/a-touch-o...   \n",
       "4  https://rngr.net/resources/directory/awaldbart...   \n",
       "\n",
       "                                             Address  \\\n",
       "0         PO Box 476 Loxahatchee, Florida 33470-3069   \n",
       "1  31632 North 43rd Street Cave Creek, Arizona 85331   \n",
       "2             1998 19th Ave NE Ruskin, Florida 33570   \n",
       "3           7205 Holly Fern Cove Austin, Texas 78750   \n",
       "4           5517 N Hwy 67 Florissant, Missouri 63034   \n",
       "\n",
       "                        Contact NurseryType  \\\n",
       "0   Irene Goltzena 561.718.3069     Private   \n",
       "1     Bart Chrader 480.483.8355     Private   \n",
       "2      Rob Pittman 866.998.9393     Private   \n",
       "3          Bridget 512.736.4859     Private   \n",
       "4  Jack Cunningham 314.741.3121     Private   \n",
       "\n",
       "                                  BusinessType Product  \\\n",
       "0  Wholesale, Retail, Mail, Internet, Contract  Plants   \n",
       "1                            Wholesale, Retail  Plants   \n",
       "2                            Wholesale, Retail  Plants   \n",
       "3                            Wholesale, Retail  Plants   \n",
       "4                            Wholesale, Retail  Plants   \n",
       "\n",
       "               Contact Adjusted  \n",
       "0   Irene Goltzena 561.718.3069  \n",
       "1     Bart Chrader 480.483.8355  \n",
       "2      Rob Pittman 866.998.9393  \n",
       "3          Bridget 512.736.4859  \n",
       "4  Jack Cunningham 314.741.3121  "
      ]
     },
     "execution_count": 21,
     "metadata": {},
     "output_type": "execute_result"
    }
   ],
   "source": [
    "Company_df=pd.read_excel('Company List.xlsx',sheet_name='Data')\n",
    "Company_df.head()"
   ]
  },
  {
   "cell_type": "code",
   "execution_count": 32,
   "metadata": {
    "collapsed": true
   },
   "outputs": [],
   "source": [
    "response=urllib.request.urlopen('https://rngr.net/resources/directory/3etreefarmsandwetlandnurseryinc/view')\n",
    "html=response.read()\n",
    "soup=BeautifulSoup(html,'lxml')"
   ]
  },
  {
   "cell_type": "code",
   "execution_count": 33,
   "metadata": {},
   "outputs": [
    {
     "data": {
      "text/plain": [
       "<table border=\"0\" bordercolor=\"blue\" cellpadding=\"1\" cellspacing=\"1\" width=\"100%\">\n",
       "<tr>\n",
       "<td>\n",
       "<br/><b>Mailing Address: </b><br/> PO Box 476<br/> Loxahatchee, Florida 33470-3069<br/><br/><b>Physical Address: </b><br/> 248 C Rd<br/> Loxahatchee, Florida 33470<br/><br/><b>Contact: </b><br/> Irene Goltzena<br/> 561.718.3069<br/><br/><b>Nursery Type: </b><br/> Private<br/><br/><b>Business Type: </b><br/> Wholesale, Retail, Mail, Internet, Contract<br/><br/><b>Product(s): </b><br/> Plants<br/>\n",
       "</td>\n",
       "</tr>\n",
       "</table>"
      ]
     },
     "execution_count": 33,
     "metadata": {},
     "output_type": "execute_result"
    }
   ],
   "source": [
    "table=soup.find_all('table')[1]\n",
    "table"
   ]
  },
  {
   "cell_type": "code",
   "execution_count": 31,
   "metadata": {},
   "outputs": [
    {
     "ename": "IndexError",
     "evalue": "list index out of range",
     "output_type": "error",
     "traceback": [
      "\u001b[1;31m---------------------------------------------------------------------------\u001b[0m",
      "\u001b[1;31mIndexError\u001b[0m                                Traceback (most recent call last)",
      "\u001b[1;32m<ipython-input-31-530a8bc82b1f>\u001b[0m in \u001b[0;36m<module>\u001b[1;34m()\u001b[0m\n\u001b[1;32m----> 1\u001b[1;33m \u001b[0mtable\u001b[0m\u001b[1;33m.\u001b[0m\u001b[0mfind_all\u001b[0m\u001b[1;33m(\u001b[0m\u001b[1;34m'a'\u001b[0m\u001b[1;33m)\u001b[0m\u001b[1;33m[\u001b[0m\u001b[1;36m0\u001b[0m\u001b[1;33m]\u001b[0m\u001b[1;33m.\u001b[0m\u001b[0mget\u001b[0m\u001b[1;33m(\u001b[0m\u001b[1;34m'href'\u001b[0m\u001b[1;33m)\u001b[0m\u001b[1;33m\u001b[0m\u001b[0m\n\u001b[0m",
      "\u001b[1;31mIndexError\u001b[0m: list index out of range"
     ]
    }
   ],
   "source": [
    "table.find_all('a')[0].get('href')"
   ]
  },
  {
   "cell_type": "code",
   "execution_count": 3,
   "metadata": {
    "collapsed": true
   },
   "outputs": [],
   "source": [
    "def web_link(url):\n",
    "    response=urllib.request.urlopen(url)\n",
    "    html=response.read()\n",
    "    soup=BeautifulSoup(html,'lxml')\n",
    "    table=soup.find_all('table')[1]\n",
    "    if len(table.find_all('a'))==1:\n",
    "        link=table.find_all('a')[0].get('href')\n",
    "        links.append(link)\n",
    "    else:\n",
    "        link='NaN'\n",
    "        links.append(link)\n",
    "    return link"
   ]
  },
  {
   "cell_type": "code",
   "execution_count": 4,
   "metadata": {
    "scrolled": true
   },
   "outputs": [
    {
     "data": {
      "text/plain": [
       "0                                                     NaN\n",
       "1                                           gswcactus.com\n",
       "2                            http://www.aqualityplant.com\n",
       "3                    http://www.touchogreenlandscapes.com\n",
       "4                          http://www.waldbartnursery.com\n",
       "5                        http://www.alclanativeplants.com\n",
       "6                                                     NaN\n",
       "7                                                     NaN\n",
       "8                                                     NaN\n",
       "9                                                     NaN\n",
       "10                     http://www.actiontheorynursery.com\n",
       "11                         http://www.adkinsarboretum.org\n",
       "12                                 http://www.agrecol.com\n",
       "13                                                    NaN\n",
       "14                                                    NaN\n",
       "15                                                    NaN\n",
       "16                              http://aikanenursery.com/\n",
       "17                                                    NaN\n",
       "18                                                    NaN\n",
       "19      http://www.plants.alaska.gov/nativeplantindex.htm\n",
       "20                                                    NaN\n",
       "21                                 http://marketland.net/\n",
       "22                        http://www.aldrichberryfarm.com\n",
       "23                                                    NaN\n",
       "24                                http://www.alexfarm.com\n",
       "25                                  http://www.nolawn.com\n",
       "26                                                    NaN\n",
       "27                            http://www.allendanseed.com\n",
       "28                          http://www.alphanurseries.com\n",
       "29                            http://www.alphanursery.com\n",
       "                              ...                        \n",
       "1186                     http://www.willamettegardens.com\n",
       "1187                      https://willamettewildlings.com\n",
       "1188                                                  NaN\n",
       "1189                                                  NaN\n",
       "1190                                                  NaN\n",
       "1191                                                  NaN\n",
       "1192                    http://www.windyridgetreefarm.com\n",
       "1193                      http://wintergardennursery.com/\n",
       "1194                    http://www.wintercreeknative.com/\n",
       "1195                                                  NaN\n",
       "1196                                                  NaN\n",
       "1197                                                  NaN\n",
       "1198                http://dnr.wi.gov/topic/TreePlanting/\n",
       "1199                          http://prairielegacyinc.com\n",
       "1200                                                  NaN\n",
       "1201                         http://www.womacknursery.com\n",
       "1202                          http://www.woodlanders.net/\n",
       "1203                              http://www.woodmere.ca/\n",
       "1204                         http://www.woodsedgefarm.com\n",
       "1205                                                  NaN\n",
       "1206                        http://www.woodywarehouse.com\n",
       "1207                             http://wrightnursery.ca/\n",
       "1208                                                  NaN\n",
       "1209                                                  NaN\n",
       "1210                                                  NaN\n",
       "1211                    http://www.yellowspringsfarm.com/\n",
       "1212               http://www.yellowpointpropagation.com/\n",
       "1213                     http://www.yerbabuenanursery.com\n",
       "1214                               http://www.yuccado.com\n",
       "1215                                                  NaN\n",
       "Name: CompanyLink, Length: 1216, dtype: object"
      ]
     },
     "execution_count": 4,
     "metadata": {},
     "output_type": "execute_result"
    }
   ],
   "source": [
    "links=[]\n",
    "Company_df['CompanyLink'].map(web_link)"
   ]
  },
  {
   "cell_type": "code",
   "execution_count": 5,
   "metadata": {},
   "outputs": [],
   "source": [
    "Company_df['Url']=pd.Series(links)"
   ]
  },
  {
   "cell_type": "code",
   "execution_count": 6,
   "metadata": {},
   "outputs": [
    {
     "data": {
      "text/html": [
       "<div>\n",
       "<style scoped>\n",
       "    .dataframe tbody tr th:only-of-type {\n",
       "        vertical-align: middle;\n",
       "    }\n",
       "\n",
       "    .dataframe tbody tr th {\n",
       "        vertical-align: top;\n",
       "    }\n",
       "\n",
       "    .dataframe thead th {\n",
       "        text-align: right;\n",
       "    }\n",
       "</style>\n",
       "<table border=\"1\" class=\"dataframe\">\n",
       "  <thead>\n",
       "    <tr style=\"text-align: right;\">\n",
       "      <th></th>\n",
       "      <th>CompanyName</th>\n",
       "      <th>CompanyLink</th>\n",
       "      <th>Address</th>\n",
       "      <th>Contact</th>\n",
       "      <th>NurseryType</th>\n",
       "      <th>BusinessType</th>\n",
       "      <th>Product</th>\n",
       "      <th>Contact Adjusted</th>\n",
       "      <th>Url</th>\n",
       "    </tr>\n",
       "  </thead>\n",
       "  <tbody>\n",
       "    <tr>\n",
       "      <th>0</th>\n",
       "      <td>3E Tree Farms and Wetland Nursery Inc</td>\n",
       "      <td>https://rngr.net/resources/directory/3etreefar...</td>\n",
       "      <td>PO Box 476 Loxahatchee, Florida 33470-3069</td>\n",
       "      <td>Irene Goltzena 561.718.3069</td>\n",
       "      <td>Private</td>\n",
       "      <td>Wholesale, Retail, Mail, Internet, Contract</td>\n",
       "      <td>Plants</td>\n",
       "      <td>Irene Goltzena 561.718.3069</td>\n",
       "      <td>NaN</td>\n",
       "    </tr>\n",
       "    <tr>\n",
       "      <th>1</th>\n",
       "      <td>A Great SW Saguaro and Tree | Arizona Native P...</td>\n",
       "      <td>https://rngr.net/resources/directory/arizonana...</td>\n",
       "      <td>31632 North 43rd Street Cave Creek, Arizona 85331</td>\n",
       "      <td>Bart Chrader 480.483.8355</td>\n",
       "      <td>Private</td>\n",
       "      <td>Wholesale, Retail</td>\n",
       "      <td>Plants</td>\n",
       "      <td>Bart Chrader 480.483.8355</td>\n",
       "      <td>gswcactus.com</td>\n",
       "    </tr>\n",
       "    <tr>\n",
       "      <th>2</th>\n",
       "      <td>A Quality Plant</td>\n",
       "      <td>https://rngr.net/resources/directory/a-quality...</td>\n",
       "      <td>1998 19th Ave NE Ruskin, Florida 33570</td>\n",
       "      <td>Rob Pittman 866.998.9393</td>\n",
       "      <td>Private</td>\n",
       "      <td>Wholesale, Retail</td>\n",
       "      <td>Plants</td>\n",
       "      <td>Rob Pittman 866.998.9393</td>\n",
       "      <td>http://www.aqualityplant.com</td>\n",
       "    </tr>\n",
       "    <tr>\n",
       "      <th>3</th>\n",
       "      <td>A Touch O' Green Landscape &amp; Gardens LLC</td>\n",
       "      <td>https://rngr.net/resources/directory/a-touch-o...</td>\n",
       "      <td>7205 Holly Fern Cove Austin, Texas 78750</td>\n",
       "      <td>Bridget 512.736.4859</td>\n",
       "      <td>Private</td>\n",
       "      <td>Wholesale, Retail</td>\n",
       "      <td>Plants</td>\n",
       "      <td>Bridget 512.736.4859</td>\n",
       "      <td>http://www.touchogreenlandscapes.com</td>\n",
       "    </tr>\n",
       "    <tr>\n",
       "      <th>4</th>\n",
       "      <td>A Waldbart &amp; Sons Nursery</td>\n",
       "      <td>https://rngr.net/resources/directory/awaldbart...</td>\n",
       "      <td>5517 N Hwy 67 Florissant, Missouri 63034</td>\n",
       "      <td>Jack Cunningham 314.741.3121</td>\n",
       "      <td>Private</td>\n",
       "      <td>Wholesale, Retail</td>\n",
       "      <td>Plants</td>\n",
       "      <td>Jack Cunningham 314.741.3121</td>\n",
       "      <td>http://www.waldbartnursery.com</td>\n",
       "    </tr>\n",
       "  </tbody>\n",
       "</table>\n",
       "</div>"
      ],
      "text/plain": [
       "                                         CompanyName  \\\n",
       "0              3E Tree Farms and Wetland Nursery Inc   \n",
       "1  A Great SW Saguaro and Tree | Arizona Native P...   \n",
       "2                                    A Quality Plant   \n",
       "3           A Touch O' Green Landscape & Gardens LLC   \n",
       "4                          A Waldbart & Sons Nursery   \n",
       "\n",
       "                                         CompanyLink  \\\n",
       "0  https://rngr.net/resources/directory/3etreefar...   \n",
       "1  https://rngr.net/resources/directory/arizonana...   \n",
       "2  https://rngr.net/resources/directory/a-quality...   \n",
       "3  https://rngr.net/resources/directory/a-touch-o...   \n",
       "4  https://rngr.net/resources/directory/awaldbart...   \n",
       "\n",
       "                                             Address  \\\n",
       "0         PO Box 476 Loxahatchee, Florida 33470-3069   \n",
       "1  31632 North 43rd Street Cave Creek, Arizona 85331   \n",
       "2             1998 19th Ave NE Ruskin, Florida 33570   \n",
       "3           7205 Holly Fern Cove Austin, Texas 78750   \n",
       "4           5517 N Hwy 67 Florissant, Missouri 63034   \n",
       "\n",
       "                        Contact NurseryType  \\\n",
       "0   Irene Goltzena 561.718.3069     Private   \n",
       "1     Bart Chrader 480.483.8355     Private   \n",
       "2      Rob Pittman 866.998.9393     Private   \n",
       "3          Bridget 512.736.4859     Private   \n",
       "4  Jack Cunningham 314.741.3121     Private   \n",
       "\n",
       "                                  BusinessType Product  \\\n",
       "0  Wholesale, Retail, Mail, Internet, Contract  Plants   \n",
       "1                            Wholesale, Retail  Plants   \n",
       "2                            Wholesale, Retail  Plants   \n",
       "3                            Wholesale, Retail  Plants   \n",
       "4                            Wholesale, Retail  Plants   \n",
       "\n",
       "               Contact Adjusted                                   Url  \n",
       "0   Irene Goltzena 561.718.3069                                   NaN  \n",
       "1     Bart Chrader 480.483.8355                         gswcactus.com  \n",
       "2      Rob Pittman 866.998.9393          http://www.aqualityplant.com  \n",
       "3          Bridget 512.736.4859  http://www.touchogreenlandscapes.com  \n",
       "4  Jack Cunningham 314.741.3121        http://www.waldbartnursery.com  "
      ]
     },
     "execution_count": 6,
     "metadata": {},
     "output_type": "execute_result"
    }
   ],
   "source": [
    "Company_df.head()"
   ]
  },
  {
   "cell_type": "code",
   "execution_count": 8,
   "metadata": {},
   "outputs": [
    {
     "data": {
      "text/html": [
       "<div>\n",
       "<style scoped>\n",
       "    .dataframe tbody tr th:only-of-type {\n",
       "        vertical-align: middle;\n",
       "    }\n",
       "\n",
       "    .dataframe tbody tr th {\n",
       "        vertical-align: top;\n",
       "    }\n",
       "\n",
       "    .dataframe thead th {\n",
       "        text-align: right;\n",
       "    }\n",
       "</style>\n",
       "<table border=\"1\" class=\"dataframe\">\n",
       "  <thead>\n",
       "    <tr style=\"text-align: right;\">\n",
       "      <th></th>\n",
       "      <th>CompanyName</th>\n",
       "      <th>Address</th>\n",
       "      <th>State</th>\n",
       "      <th>Zip</th>\n",
       "      <th>Country</th>\n",
       "      <th>Contact</th>\n",
       "      <th>Contact Phone</th>\n",
       "    </tr>\n",
       "  </thead>\n",
       "  <tbody>\n",
       "    <tr>\n",
       "      <th>0</th>\n",
       "      <td>3E Tree Farms and Wetland Nursery Inc</td>\n",
       "      <td>PO Box 476 Loxahatchee</td>\n",
       "      <td>Florida</td>\n",
       "      <td>33470.0</td>\n",
       "      <td>US</td>\n",
       "      <td>Irene Goltzena</td>\n",
       "      <td>561.718.3069</td>\n",
       "    </tr>\n",
       "    <tr>\n",
       "      <th>1</th>\n",
       "      <td>A Great SW Saguaro and Tree | Arizona Native P...</td>\n",
       "      <td>31632 North 43rd Street Cave Creek</td>\n",
       "      <td>Arizona</td>\n",
       "      <td>85331.0</td>\n",
       "      <td>US</td>\n",
       "      <td>Bart Chrader</td>\n",
       "      <td>480.483.8355</td>\n",
       "    </tr>\n",
       "    <tr>\n",
       "      <th>2</th>\n",
       "      <td>A Quality Plant</td>\n",
       "      <td>1998 19th Ave NE Ruskin</td>\n",
       "      <td>Florida</td>\n",
       "      <td>33570.0</td>\n",
       "      <td>US</td>\n",
       "      <td>Rob Pittman</td>\n",
       "      <td>866.998.9393</td>\n",
       "    </tr>\n",
       "    <tr>\n",
       "      <th>3</th>\n",
       "      <td>A Touch O' Green Landscape &amp; Gardens LLC</td>\n",
       "      <td>7205 Holly Fern Cove Austin</td>\n",
       "      <td>Texas</td>\n",
       "      <td>78750.0</td>\n",
       "      <td>US</td>\n",
       "      <td>Bridget</td>\n",
       "      <td>512.736.4859</td>\n",
       "    </tr>\n",
       "    <tr>\n",
       "      <th>4</th>\n",
       "      <td>A Waldbart &amp; Sons Nursery</td>\n",
       "      <td>5517 N Hwy 67 Florissant</td>\n",
       "      <td>Missouri</td>\n",
       "      <td>63034.0</td>\n",
       "      <td>US</td>\n",
       "      <td>Jack Cunningham</td>\n",
       "      <td>314.741.3121</td>\n",
       "    </tr>\n",
       "  </tbody>\n",
       "</table>\n",
       "</div>"
      ],
      "text/plain": [
       "                                         CompanyName  \\\n",
       "0              3E Tree Farms and Wetland Nursery Inc   \n",
       "1  A Great SW Saguaro and Tree | Arizona Native P...   \n",
       "2                                    A Quality Plant   \n",
       "3           A Touch O' Green Landscape & Gardens LLC   \n",
       "4                          A Waldbart & Sons Nursery   \n",
       "\n",
       "                              Address       State      Zip Country  \\\n",
       "0              PO Box 476 Loxahatchee    Florida   33470.0      US   \n",
       "1  31632 North 43rd Street Cave Creek    Arizona   85331.0      US   \n",
       "2             1998 19th Ave NE Ruskin    Florida   33570.0      US   \n",
       "3         7205 Holly Fern Cove Austin      Texas   78750.0      US   \n",
       "4            5517 N Hwy 67 Florissant   Missouri   63034.0      US   \n",
       "\n",
       "           Contact Contact Phone  \n",
       "0   Irene Goltzena  561.718.3069  \n",
       "1     Bart Chrader  480.483.8355  \n",
       "2      Rob Pittman  866.998.9393  \n",
       "3          Bridget  512.736.4859  \n",
       "4  Jack Cunningham  314.741.3121  "
      ]
     },
     "execution_count": 8,
     "metadata": {},
     "output_type": "execute_result"
    }
   ],
   "source": [
    "df=pd.read_excel('CompanyList_updated.xlsx')\n",
    "df.head()"
   ]
  },
  {
   "cell_type": "code",
   "execution_count": 9,
   "metadata": {},
   "outputs": [
    {
     "data": {
      "text/html": [
       "<div>\n",
       "<style scoped>\n",
       "    .dataframe tbody tr th:only-of-type {\n",
       "        vertical-align: middle;\n",
       "    }\n",
       "\n",
       "    .dataframe tbody tr th {\n",
       "        vertical-align: top;\n",
       "    }\n",
       "\n",
       "    .dataframe thead th {\n",
       "        text-align: right;\n",
       "    }\n",
       "</style>\n",
       "<table border=\"1\" class=\"dataframe\">\n",
       "  <thead>\n",
       "    <tr style=\"text-align: right;\">\n",
       "      <th></th>\n",
       "      <th>CompanyName</th>\n",
       "      <th>Address</th>\n",
       "      <th>State</th>\n",
       "      <th>Zip</th>\n",
       "      <th>Country</th>\n",
       "      <th>Contact</th>\n",
       "      <th>Contact Phone</th>\n",
       "      <th>Url</th>\n",
       "    </tr>\n",
       "  </thead>\n",
       "  <tbody>\n",
       "    <tr>\n",
       "      <th>0</th>\n",
       "      <td>3E Tree Farms and Wetland Nursery Inc</td>\n",
       "      <td>PO Box 476 Loxahatchee</td>\n",
       "      <td>Florida</td>\n",
       "      <td>33470.0</td>\n",
       "      <td>US</td>\n",
       "      <td>Irene Goltzena</td>\n",
       "      <td>561.718.3069</td>\n",
       "      <td>NaN</td>\n",
       "    </tr>\n",
       "    <tr>\n",
       "      <th>1</th>\n",
       "      <td>A Great SW Saguaro and Tree | Arizona Native P...</td>\n",
       "      <td>31632 North 43rd Street Cave Creek</td>\n",
       "      <td>Arizona</td>\n",
       "      <td>85331.0</td>\n",
       "      <td>US</td>\n",
       "      <td>Bart Chrader</td>\n",
       "      <td>480.483.8355</td>\n",
       "      <td>gswcactus.com</td>\n",
       "    </tr>\n",
       "    <tr>\n",
       "      <th>2</th>\n",
       "      <td>A Quality Plant</td>\n",
       "      <td>1998 19th Ave NE Ruskin</td>\n",
       "      <td>Florida</td>\n",
       "      <td>33570.0</td>\n",
       "      <td>US</td>\n",
       "      <td>Rob Pittman</td>\n",
       "      <td>866.998.9393</td>\n",
       "      <td>http://www.aqualityplant.com</td>\n",
       "    </tr>\n",
       "    <tr>\n",
       "      <th>3</th>\n",
       "      <td>A Touch O' Green Landscape &amp; Gardens LLC</td>\n",
       "      <td>7205 Holly Fern Cove Austin</td>\n",
       "      <td>Texas</td>\n",
       "      <td>78750.0</td>\n",
       "      <td>US</td>\n",
       "      <td>Bridget</td>\n",
       "      <td>512.736.4859</td>\n",
       "      <td>http://www.touchogreenlandscapes.com</td>\n",
       "    </tr>\n",
       "    <tr>\n",
       "      <th>4</th>\n",
       "      <td>A Waldbart &amp; Sons Nursery</td>\n",
       "      <td>5517 N Hwy 67 Florissant</td>\n",
       "      <td>Missouri</td>\n",
       "      <td>63034.0</td>\n",
       "      <td>US</td>\n",
       "      <td>Jack Cunningham</td>\n",
       "      <td>314.741.3121</td>\n",
       "      <td>http://www.waldbartnursery.com</td>\n",
       "    </tr>\n",
       "  </tbody>\n",
       "</table>\n",
       "</div>"
      ],
      "text/plain": [
       "                                         CompanyName  \\\n",
       "0              3E Tree Farms and Wetland Nursery Inc   \n",
       "1  A Great SW Saguaro and Tree | Arizona Native P...   \n",
       "2                                    A Quality Plant   \n",
       "3           A Touch O' Green Landscape & Gardens LLC   \n",
       "4                          A Waldbart & Sons Nursery   \n",
       "\n",
       "                              Address       State      Zip Country  \\\n",
       "0              PO Box 476 Loxahatchee    Florida   33470.0      US   \n",
       "1  31632 North 43rd Street Cave Creek    Arizona   85331.0      US   \n",
       "2             1998 19th Ave NE Ruskin    Florida   33570.0      US   \n",
       "3         7205 Holly Fern Cove Austin      Texas   78750.0      US   \n",
       "4            5517 N Hwy 67 Florissant   Missouri   63034.0      US   \n",
       "\n",
       "           Contact Contact Phone                                   Url  \n",
       "0   Irene Goltzena  561.718.3069                                   NaN  \n",
       "1     Bart Chrader  480.483.8355                         gswcactus.com  \n",
       "2      Rob Pittman  866.998.9393          http://www.aqualityplant.com  \n",
       "3          Bridget  512.736.4859  http://www.touchogreenlandscapes.com  \n",
       "4  Jack Cunningham  314.741.3121        http://www.waldbartnursery.com  "
      ]
     },
     "execution_count": 9,
     "metadata": {},
     "output_type": "execute_result"
    }
   ],
   "source": [
    "df['Url']=pd.Series(links)\n",
    "df.head()"
   ]
  },
  {
   "cell_type": "code",
   "execution_count": 12,
   "metadata": {
    "collapsed": true
   },
   "outputs": [],
   "source": [
    "df.to_excel('CompanyList_updated_version2.xlsx',index=False)"
   ]
  },
  {
   "cell_type": "code",
   "execution_count": 20,
   "metadata": {},
   "outputs": [
    {
     "data": {
      "text/html": [
       "<div>\n",
       "<style scoped>\n",
       "    .dataframe tbody tr th:only-of-type {\n",
       "        vertical-align: middle;\n",
       "    }\n",
       "\n",
       "    .dataframe tbody tr th {\n",
       "        vertical-align: top;\n",
       "    }\n",
       "\n",
       "    .dataframe thead th {\n",
       "        text-align: right;\n",
       "    }\n",
       "</style>\n",
       "<table border=\"1\" class=\"dataframe\">\n",
       "  <thead>\n",
       "    <tr style=\"text-align: right;\">\n",
       "      <th></th>\n",
       "      <th>CompanyName</th>\n",
       "      <th>Address</th>\n",
       "      <th>State</th>\n",
       "      <th>Zip</th>\n",
       "      <th>Country</th>\n",
       "      <th>Contact</th>\n",
       "      <th>Contact Phone</th>\n",
       "      <th>Url</th>\n",
       "    </tr>\n",
       "  </thead>\n",
       "  <tbody>\n",
       "    <tr>\n",
       "      <th>0</th>\n",
       "      <td>3E Tree Farms and Wetland Nursery Inc</td>\n",
       "      <td>PO Box 476 Loxahatchee</td>\n",
       "      <td>Florida</td>\n",
       "      <td>33470.0</td>\n",
       "      <td>US</td>\n",
       "      <td>Irene Goltzena</td>\n",
       "      <td>561.718.3069</td>\n",
       "      <td>NaN</td>\n",
       "    </tr>\n",
       "    <tr>\n",
       "      <th>1</th>\n",
       "      <td>A Great SW Saguaro and Tree | Arizona Native P...</td>\n",
       "      <td>31632 North 43rd Street Cave Creek</td>\n",
       "      <td>Arizona</td>\n",
       "      <td>85331.0</td>\n",
       "      <td>US</td>\n",
       "      <td>Bart Chrader</td>\n",
       "      <td>480.483.8355</td>\n",
       "      <td>gswcactus.com</td>\n",
       "    </tr>\n",
       "    <tr>\n",
       "      <th>2</th>\n",
       "      <td>A Quality Plant</td>\n",
       "      <td>1998 19th Ave NE Ruskin</td>\n",
       "      <td>Florida</td>\n",
       "      <td>33570.0</td>\n",
       "      <td>US</td>\n",
       "      <td>Rob Pittman</td>\n",
       "      <td>866.998.9393</td>\n",
       "      <td>http://www.aqualityplant.com</td>\n",
       "    </tr>\n",
       "    <tr>\n",
       "      <th>3</th>\n",
       "      <td>A Touch O' Green Landscape &amp; Gardens LLC</td>\n",
       "      <td>7205 Holly Fern Cove Austin</td>\n",
       "      <td>Texas</td>\n",
       "      <td>78750.0</td>\n",
       "      <td>US</td>\n",
       "      <td>Bridget</td>\n",
       "      <td>512.736.4859</td>\n",
       "      <td>http://www.touchogreenlandscapes.com</td>\n",
       "    </tr>\n",
       "    <tr>\n",
       "      <th>4</th>\n",
       "      <td>A Waldbart &amp; Sons Nursery</td>\n",
       "      <td>5517 N Hwy 67 Florissant</td>\n",
       "      <td>Missouri</td>\n",
       "      <td>63034.0</td>\n",
       "      <td>US</td>\n",
       "      <td>Jack Cunningham</td>\n",
       "      <td>314.741.3121</td>\n",
       "      <td>http://www.waldbartnursery.com</td>\n",
       "    </tr>\n",
       "  </tbody>\n",
       "</table>\n",
       "</div>"
      ],
      "text/plain": [
       "                                         CompanyName  \\\n",
       "0              3E Tree Farms and Wetland Nursery Inc   \n",
       "1  A Great SW Saguaro and Tree | Arizona Native P...   \n",
       "2                                    A Quality Plant   \n",
       "3           A Touch O' Green Landscape & Gardens LLC   \n",
       "4                          A Waldbart & Sons Nursery   \n",
       "\n",
       "                              Address       State      Zip Country  \\\n",
       "0              PO Box 476 Loxahatchee    Florida   33470.0      US   \n",
       "1  31632 North 43rd Street Cave Creek    Arizona   85331.0      US   \n",
       "2             1998 19th Ave NE Ruskin    Florida   33570.0      US   \n",
       "3         7205 Holly Fern Cove Austin      Texas   78750.0      US   \n",
       "4            5517 N Hwy 67 Florissant   Missouri   63034.0      US   \n",
       "\n",
       "           Contact Contact Phone                                   Url  \n",
       "0   Irene Goltzena  561.718.3069                                   NaN  \n",
       "1     Bart Chrader  480.483.8355                         gswcactus.com  \n",
       "2      Rob Pittman  866.998.9393          http://www.aqualityplant.com  \n",
       "3          Bridget  512.736.4859  http://www.touchogreenlandscapes.com  \n",
       "4  Jack Cunningham  314.741.3121        http://www.waldbartnursery.com  "
      ]
     },
     "execution_count": 20,
     "metadata": {},
     "output_type": "execute_result"
    }
   ],
   "source": [
    "df.head()"
   ]
  },
  {
   "cell_type": "code",
   "execution_count": 22,
   "metadata": {
    "collapsed": true
   },
   "outputs": [],
   "source": [
    "df['NurseryType']=Company_df['NurseryType']\n",
    "df['BusinessType']=Company_df['BusinessType']\n",
    "df['Product']=Company_df['Product']"
   ]
  },
  {
   "cell_type": "code",
   "execution_count": 23,
   "metadata": {},
   "outputs": [
    {
     "data": {
      "text/html": [
       "<div>\n",
       "<style scoped>\n",
       "    .dataframe tbody tr th:only-of-type {\n",
       "        vertical-align: middle;\n",
       "    }\n",
       "\n",
       "    .dataframe tbody tr th {\n",
       "        vertical-align: top;\n",
       "    }\n",
       "\n",
       "    .dataframe thead th {\n",
       "        text-align: right;\n",
       "    }\n",
       "</style>\n",
       "<table border=\"1\" class=\"dataframe\">\n",
       "  <thead>\n",
       "    <tr style=\"text-align: right;\">\n",
       "      <th></th>\n",
       "      <th>CompanyName</th>\n",
       "      <th>Address</th>\n",
       "      <th>State</th>\n",
       "      <th>Zip</th>\n",
       "      <th>Country</th>\n",
       "      <th>Contact</th>\n",
       "      <th>Contact Phone</th>\n",
       "      <th>Url</th>\n",
       "      <th>NurseryType</th>\n",
       "      <th>BusinessType</th>\n",
       "      <th>Product</th>\n",
       "    </tr>\n",
       "  </thead>\n",
       "  <tbody>\n",
       "    <tr>\n",
       "      <th>0</th>\n",
       "      <td>3E Tree Farms and Wetland Nursery Inc</td>\n",
       "      <td>PO Box 476 Loxahatchee</td>\n",
       "      <td>Florida</td>\n",
       "      <td>33470.0</td>\n",
       "      <td>US</td>\n",
       "      <td>Irene Goltzena</td>\n",
       "      <td>561.718.3069</td>\n",
       "      <td>NaN</td>\n",
       "      <td>Private</td>\n",
       "      <td>Wholesale, Retail, Mail, Internet, Contract</td>\n",
       "      <td>Plants</td>\n",
       "    </tr>\n",
       "    <tr>\n",
       "      <th>1</th>\n",
       "      <td>A Great SW Saguaro and Tree | Arizona Native P...</td>\n",
       "      <td>31632 North 43rd Street Cave Creek</td>\n",
       "      <td>Arizona</td>\n",
       "      <td>85331.0</td>\n",
       "      <td>US</td>\n",
       "      <td>Bart Chrader</td>\n",
       "      <td>480.483.8355</td>\n",
       "      <td>gswcactus.com</td>\n",
       "      <td>Private</td>\n",
       "      <td>Wholesale, Retail</td>\n",
       "      <td>Plants</td>\n",
       "    </tr>\n",
       "    <tr>\n",
       "      <th>2</th>\n",
       "      <td>A Quality Plant</td>\n",
       "      <td>1998 19th Ave NE Ruskin</td>\n",
       "      <td>Florida</td>\n",
       "      <td>33570.0</td>\n",
       "      <td>US</td>\n",
       "      <td>Rob Pittman</td>\n",
       "      <td>866.998.9393</td>\n",
       "      <td>http://www.aqualityplant.com</td>\n",
       "      <td>Private</td>\n",
       "      <td>Wholesale, Retail</td>\n",
       "      <td>Plants</td>\n",
       "    </tr>\n",
       "    <tr>\n",
       "      <th>3</th>\n",
       "      <td>A Touch O' Green Landscape &amp; Gardens LLC</td>\n",
       "      <td>7205 Holly Fern Cove Austin</td>\n",
       "      <td>Texas</td>\n",
       "      <td>78750.0</td>\n",
       "      <td>US</td>\n",
       "      <td>Bridget</td>\n",
       "      <td>512.736.4859</td>\n",
       "      <td>http://www.touchogreenlandscapes.com</td>\n",
       "      <td>Private</td>\n",
       "      <td>Wholesale, Retail</td>\n",
       "      <td>Plants</td>\n",
       "    </tr>\n",
       "    <tr>\n",
       "      <th>4</th>\n",
       "      <td>A Waldbart &amp; Sons Nursery</td>\n",
       "      <td>5517 N Hwy 67 Florissant</td>\n",
       "      <td>Missouri</td>\n",
       "      <td>63034.0</td>\n",
       "      <td>US</td>\n",
       "      <td>Jack Cunningham</td>\n",
       "      <td>314.741.3121</td>\n",
       "      <td>http://www.waldbartnursery.com</td>\n",
       "      <td>Private</td>\n",
       "      <td>Wholesale, Retail</td>\n",
       "      <td>Plants</td>\n",
       "    </tr>\n",
       "  </tbody>\n",
       "</table>\n",
       "</div>"
      ],
      "text/plain": [
       "                                         CompanyName  \\\n",
       "0              3E Tree Farms and Wetland Nursery Inc   \n",
       "1  A Great SW Saguaro and Tree | Arizona Native P...   \n",
       "2                                    A Quality Plant   \n",
       "3           A Touch O' Green Landscape & Gardens LLC   \n",
       "4                          A Waldbart & Sons Nursery   \n",
       "\n",
       "                              Address       State      Zip Country  \\\n",
       "0              PO Box 476 Loxahatchee    Florida   33470.0      US   \n",
       "1  31632 North 43rd Street Cave Creek    Arizona   85331.0      US   \n",
       "2             1998 19th Ave NE Ruskin    Florida   33570.0      US   \n",
       "3         7205 Holly Fern Cove Austin      Texas   78750.0      US   \n",
       "4            5517 N Hwy 67 Florissant   Missouri   63034.0      US   \n",
       "\n",
       "           Contact Contact Phone                                   Url  \\\n",
       "0   Irene Goltzena  561.718.3069                                   NaN   \n",
       "1     Bart Chrader  480.483.8355                         gswcactus.com   \n",
       "2      Rob Pittman  866.998.9393          http://www.aqualityplant.com   \n",
       "3          Bridget  512.736.4859  http://www.touchogreenlandscapes.com   \n",
       "4  Jack Cunningham  314.741.3121        http://www.waldbartnursery.com   \n",
       "\n",
       "  NurseryType                                 BusinessType Product  \n",
       "0     Private  Wholesale, Retail, Mail, Internet, Contract  Plants  \n",
       "1     Private                            Wholesale, Retail  Plants  \n",
       "2     Private                            Wholesale, Retail  Plants  \n",
       "3     Private                            Wholesale, Retail  Plants  \n",
       "4     Private                            Wholesale, Retail  Plants  "
      ]
     },
     "execution_count": 23,
     "metadata": {},
     "output_type": "execute_result"
    }
   ],
   "source": [
    "df.head()"
   ]
  },
  {
   "cell_type": "code",
   "execution_count": 24,
   "metadata": {
    "collapsed": true
   },
   "outputs": [],
   "source": [
    "df.to_excel('CompanyList_updated_version4.xlsx',index=False)"
   ]
  },
  {
   "cell_type": "code",
   "execution_count": null,
   "metadata": {
    "collapsed": true
   },
   "outputs": [],
   "source": []
  }
 ],
 "metadata": {
  "kernelspec": {
   "display_name": "Python 3",
   "language": "python",
   "name": "python3"
  },
  "language_info": {
   "codemirror_mode": {
    "name": "ipython",
    "version": 3
   },
   "file_extension": ".py",
   "mimetype": "text/x-python",
   "name": "python",
   "nbconvert_exporter": "python",
   "pygments_lexer": "ipython3",
   "version": "3.6.3"
  }
 },
 "nbformat": 4,
 "nbformat_minor": 2
}
